{
 "cells": [
  {
   "cell_type": "markdown",
   "metadata": {},
   "source": [
    "# Oscar Award Winner Predictions"
   ]
  },
  {
   "cell_type": "markdown",
   "metadata": {},
   "source": [
    "Living in Los Angeles, the entertainment capital of the world, it’s hard not to be to some extent drawn into the buzz of awards season. This past Academy Awards were especially interesting to me personally because I saw the majority of movies up for nominations. Each film is independent of any film to come before and after it in theory, but I questioned whether there were patterns that could be derived from historical data which could be used to make educated guesses on future winners"
   ]
  },
  {
   "cell_type": "markdown",
   "metadata": {},
   "source": [
    "I decided to see whether I could build a model that could predict the winners of specific Oscar categories based on characteristics of winners from past Academy Awards. At some point I would love to extend the predictions to each and every category, but for the purpose of this project the three categories I decided to predict were; Cinematography, Directing and Best Picture.\n",
    "\n",
    "The following report details the steps I took to gather, clean, and transform the data. It will detail descriptive plots that helped add context to the overarching problem. Last, it shows the results of the models and the features which ended up being the most important in terms of predictive accuracy. The first half is written in python while the modeling and visualizations are done in R."
   ]
  },
  {
   "cell_type": "markdown",
   "metadata": {},
   "source": [
    "To help try and answer this question I decided to grab data for Oscar nominated movies dating back to 1980 and see if I can predict the winners from the 2015-2019 Academy Awards in the categories of Cinematography, Directing, and Best Picture. For reference throughout the rest of the report the Academy Award year is for movies that came out the year specified, not when the award show took place. For example, the year 2019 in the dataset represents movies that released in 2019 even though the award show took place in February of 2020.  The models used would be based around classification where the film with the highest probability of winning within a category and a year would be predicted as the winner. "
   ]
  },
  {
   "cell_type": "code",
   "execution_count": 1,
   "metadata": {},
   "outputs": [],
   "source": [
    "#import of python libraries including tmbd and RottenTomatoes api's\n",
    "import tmdbsimple as tmdb\n",
    "from rotten_tomatoes_client import RottenTomatoesClient\n",
    "import pandas as pd \n",
    "import numpy as np\n",
    "import time"
   ]
  },
  {
   "cell_type": "markdown",
   "metadata": {},
   "source": [
    "The dataset used for this project came from a variety of sources. First, I needed to get a comprehensive list of Academy Award nominees and winners over the past 40 years. Luckily for me someone had already compiled this list\n",
    "\n",
    "The next part of information I wanted were detail oriented characteristics regarding each film. Characteristics such as, the top 3 actors/actresses in the film, how long was the film, what genre, etc. This information was found using an API from \"the movie database\" site . This allowed me to programmatically send the award nominees to the API and request an output of information for each movie. This worked seamlessly for roughly 90% of the data, however due to discrepancies in titles, such as the word “and” instead of “&”, it required some manual labor on my part to make sure my data was not only clean, but accurate. The last piece of information I wanted for my dataset is the average review score by critics of each film. I was able to gather this data using a Rotten Tomatoes API.Similar to the movie database API, this also required some manual work as far as adjusting movie titles to line up consistently across the API and the list of Academy Award nominees. "
   ]
  },
  {
   "cell_type": "code",
   "execution_count": 2,
   "metadata": {},
   "outputs": [],
   "source": [
    "#For purposes of my project looking at data from 1980 onwards in three categories, Cinematography, Best Picture, and Directing\n",
    "academy = pd.read_csv(r'C:\\Users\\Patrick\\Downloads\\oscars-nominees-and-winners_zip\\data\\data_csv.csv')\n",
    "mask1 = academy['year']>=1980\n",
    "mask2 = academy['category']=='CINEMATOGRAPHY'\n",
    "mask3 = academy['category']=='BEST PICTURE'\n",
    "mask4 = academy['category']=='DIRECTING'\n",
    "academy = academy[(mask1) & (mask2 | mask3 | mask4)]\n",
    "academy['winner']=academy['winner'].apply(lambda x:1 if x == True else 0)\n",
    "#manual data processing to rename movie titles that differ from API's\n",
    "academy['entity']=academy['entity'].replace({'Good Fellas':'GoodFellas','My Left Foot':'My Left Foot: The Story of Christy Brown','The Godfather, Part III':'The Godfather: Part III'})\n",
    "academy['entity']=academy['entity'].replace({'Red':'Three Colors: Red','Malèna':'Malena','Moulin Rouge':'Moulin Rouge!',\"Precious: Based on the Novel 'Push' by Sapphire\":'Precious'})\n",
    "academy['entity']=academy['entity'].replace({'The Postman (Il Postino)':'The Postman'})\n",
    "academy_distinct_list=academy[['entity','year']].drop_duplicates()\n",
    "#create a zipped list of movie names and the year, this will be used for the api function\n",
    "academy_titles=list(zip(academy_distinct_list['entity'],academy_distinct_list['year']))"
   ]
  },
  {
   "cell_type": "code",
   "execution_count": 3,
   "metadata": {},
   "outputs": [],
   "source": [
    "#empty list to store api outputs\n",
    "movie_list=[]"
   ]
  },
  {
   "cell_type": "code",
   "execution_count": 4,
   "metadata": {},
   "outputs": [],
   "source": [
    "#insertion of api key\n",
    "tmdb.API_KEY = 'a1f3bc11391863530744a6b40b85c598'\n",
    "def movie_dataframe(movie_title,year):\n",
    "    try:\n",
    "        movie_dict={}\n",
    "        time.sleep(5)\n",
    "        search = tmdb.Search()\n",
    "        #taking care of data anomalies when connecting to api.\n",
    "        if movie_title == 'The Lover':\n",
    "            response=search.movie(query=\"L'Amant\")\n",
    "        elif movie_title== 'The Postman':\n",
    "            response=search.movie(query=\"Il Postino\")\n",
    "        else:\n",
    "            response=search.movie(query=movie_title)\n",
    "        info=None\n",
    "        if '&' in movie_title:\n",
    "            movie_title=movie_title.replace('&','and')\n",
    "        for s in search.results:\n",
    "            if '&' in s['title']:\n",
    "                s['title']=s['title'].replace('&','and')\n",
    "            if s.get('release_date')==None or s.get('release_date')=='':\n",
    "                pass\n",
    "            else:\n",
    "                #api looks for movie with the same title name and release date within 3 years.\n",
    "                if s['title'].lower() ==  movie_title.lower() and (int(s['release_date'].split('-')[0]) ==year or int(s['release_date'].split('-')[0]) ==year-1 or int(s['release_date'].split('-')[0]) ==year-2):\n",
    "                    info=s\n",
    "                    break\n",
    "        #using api output, gather below details from the movie.\n",
    "        movie_dict['Title']=info['title']\n",
    "        movie_dict['Synopsis']=info['overview']\n",
    "        movie_dict['Release_date']=info['release_date']\n",
    "        id_num = info['id']\n",
    "        movie=tmdb.Movies(id_num)\n",
    "        time.sleep(5)\n",
    "        movie_details = movie.info()\n",
    "        movie_dict['Genre1']=None\n",
    "        movie_dict['Genre2']=None\n",
    "        movie_dict['Genre3']=None\n",
    "        movie_dict['Production_Company1']=None\n",
    "        movie_dict['Production_Company2']=None\n",
    "        movie_dict['Production_Company3']=None\n",
    "        if type(movie_details['genres'])==list:\n",
    "            for num in range(len(movie_details['genres'])):\n",
    "                if num < 3:\n",
    "                    movie_dict['Genre{}'.format(num+1)]=movie_details['genres'][num]['name']\n",
    "        else:\n",
    "            movie_dict['Genre1']=movie_details.get('genres').get('name')\n",
    "        if type(movie_details['production_companies'])==list:\n",
    "            for num in range(len(movie_details['production_companies'])):\n",
    "                if num < 3:\n",
    "                    movie_dict['Production_Company{}'.format(num+1)]=movie_details['production_companies'][num]['name']\n",
    "        else:\n",
    "            movie_dict['Production_Company1']=movie_details.get('production_companies').get('name')\n",
    "        movie_dict['Original_Language']=movie_details.get('original_language')\n",
    "        movie_dict['Budget']=movie_details.get('budget')\n",
    "        movie_dict['Runtime']=movie_details.get('runtime')   \n",
    "        movie_dict['Tagline']=movie_details.get('tagline')\n",
    "        movie_dict['Revenue']=movie_details.get('revenue')\n",
    "        movie=tmdb.Movies(id_num)\n",
    "        credits = movie.credits()\n",
    "        movie_dict['Cast1']=None\n",
    "        movie_dict['Cast2']=None\n",
    "        movie_dict['Cast3']=None\n",
    "        if type(credits.get('cast'))==list:\n",
    "            for num in range(len(credits['cast'])):\n",
    "                if num <3:\n",
    "                    movie_dict['Cast{}'.format(num+1)]=credits['cast'][num]['name']\n",
    "        else:\n",
    "            movie_dict['Cast1']=credits.get('cast').get('name')\n",
    "        movie_dict['Director1']=None\n",
    "        movie_dict['Director2']=None\n",
    "        movie_dict['Director3']=None\n",
    "        movie_dict['Cinematographer1']=None\n",
    "        movie_dict['Cinematographer2']=None\n",
    "        movie_dict['Cinematographer3']=None\n",
    "        movie_dict['Producer1']=None\n",
    "        movie_dict['Producer2']=None\n",
    "        movie_dict['Producer3']=None\n",
    "        if type(credits.get('crew'))==list:\n",
    "            k=0\n",
    "            for crew in credits['crew']:\n",
    "                if k <3 and crew.get('job')=='Director':\n",
    "                    movie_dict['Director{}'.format(k+1)]=crew.get('name')\n",
    "                    k+=1\n",
    "            k=0\n",
    "            for crew in credits['crew']:\n",
    "                if k <3 and crew.get('job')=='Director of Photography':\n",
    "                    movie_dict['Cinematographer{}'.format(k+1)]=crew.get('name')\n",
    "                    k+=1\n",
    "            k=0\n",
    "            for crew in credits['crew']:\n",
    "                if k <3 and crew.get('job')=='Producer':\n",
    "                    movie_dict['Producer{}'.format(k+1)]=crew.get('name')\n",
    "                    k+=1\n",
    "        movie=tmdb.Movies(id_num)\n",
    "        time.sleep(5)\n",
    "        releases=movie.release_dates()\n",
    "        for r in releases.get('results'):\n",
    "            if r.get('iso_3166_1')=='US':\n",
    "                if type(r.get('release_dates'))==list:\n",
    "                    movie_dict['MPAA_Rating']=r.get('release_dates')[0].get('certification')\n",
    "                else:\n",
    "                    movie_dict['MPAA_Rating']=r.get('release_dates').get('certification')\n",
    "        movie_title_rt = None\n",
    "        #Following code is fixing data of titles to align with Rotten Tomatoes API.\n",
    "        if movie_title == 'WarGames' :\n",
    "            movie_title_rt = 'WarGames (War Games)' \n",
    "        elif movie_title == 'Star Trek IV: The Voyage Home' :\n",
    "            movie_title_rt = 'Star Trek IV - The Voyage Home'  \n",
    "        elif movie_title == 'Matewan' :\n",
    "            movie_title_rt = 'Matewan: A Luta Final'\n",
    "        elif movie_title == 'My Life as a Dog' :\n",
    "            movie_title_rt = 'My Life as a Dog (Mitt Liv som Hund)'  \n",
    "        elif movie_title == 'My Left Foot: The Story of Christy Brown' :\n",
    "            movie_title_rt = 'My Left Foot'  \n",
    "        elif movie_title == 'The Godfather: Part III' :\n",
    "            movie_title_rt = 'The Godfather, Part III'  \n",
    "        elif movie_title == 'The Lover' :\n",
    "            movie_title_rt = \"The Lover (L'amant)\"\n",
    "        elif movie_title == 'Farewell My Concubine' :\n",
    "            movie_title_rt = 'Farewell My Concubine (Ba wang bie ji)' \n",
    "        elif movie_title == 'Three Colors: Red' :\n",
    "            movie_title_rt = 'Three Colors: Red (Trois couleurs: Rouge)'  \n",
    "        elif movie_title == 'Shanghai Triad' :\n",
    "            movie_title_rt = 'Shanghai Triad (Yao a yao yao dao waipo qiao)'  \n",
    "        elif movie_title == 'The Postman' :\n",
    "            movie_title_rt = 'Il Postino: The Postman (Il Postino)'  \n",
    "        elif movie_title == 'Life Is Beautiful' :\n",
    "            movie_title_rt = 'Life Is Beautiful (La Vita è bella)'  \n",
    "        elif movie_title == 'City of God' :\n",
    "            movie_title_rt = 'Cidade de Deus (City of God)'  \n",
    "        elif movie_title == 'Good Night, and Good Luck.' :\n",
    "            movie_title_rt = 'Good Night, and Good Luck'  \n",
    "        elif movie_title == 'The White Ribbon' :\n",
    "            movie_title_rt = 'The White Ribbon (Das weisse Band)'  \n",
    "        elif movie_title == 'Precious' :\n",
    "            movie_title_rt = 'Precious: Based on the Novel Push by Sapphire'  \n",
    "        elif movie_title == 'Birdman or (The Unexpected Virtue of Ignorance)' :\n",
    "            movie_title_rt = 'Birdman'\n",
    "        elif movie_title == 'Fanny and Alexander' :\n",
    "            movie_title_rt = 'Fanny & Alexander'\n",
    "        elif movie_title == 'Henry and June' :\n",
    "            movie_title_rt = 'Henry & June'\n",
    "        elif movie_title == 'Thelma and Louise' :\n",
    "            movie_title_rt = 'Thelma & Louise'\n",
    "        elif movie_title == 'Secrets and Lies' :\n",
    "            movie_title_rt = 'Secrets & Lies'\n",
    "        elif movie_title == 'Extremely Loud and Incredibly Close' :\n",
    "            movie_title_rt = 'Extremely Loud & Incredibly Close'\n",
    "        else:\n",
    "            movie_title_rt= movie_title        \n",
    "        search = RottenTomatoesClient.search(term=movie_title_rt,limit=30)\n",
    "        info=None\n",
    "        #Similar to tmbd, the Rotten Tomatoes API looks to match movie title and year it was released to get critics review score.\n",
    "        for s in search['movies']:\n",
    "            if s['name'].lower()==movie_title_rt.lower() and (s['year']==year or s['year']==year-1 or s['year']==year+1):\n",
    "                info=s\n",
    "        #manual inputs for movies not picked up in Rotten Tomatoes API\n",
    "        if movie_title_rt == 'Parasite':\n",
    "            movie_dict['Critics_Average_Score']=99\n",
    "        elif movie_title_rt == 'Cold War':\n",
    "            movie_dict['Critics_Average_Score']=92\n",
    "        elif movie_title_rt == 'Once upon a Time… in Hollywood':\n",
    "            movie_dict['Critics_Average_Score']=85\n",
    "        if info == None:\n",
    "            print(movie_title_rt,'rt')\n",
    "        else:\n",
    "            movie_dict['Critics_Average_Score']=info.get('meterScore')\n",
    "        return movie_dict\n",
    "    except:\n",
    "        print(movie_title)"
   ]
  },
  {
   "cell_type": "code",
   "execution_count": null,
   "metadata": {},
   "outputs": [],
   "source": [
    "#for loop goes through zipped list to input movie title and year into function\n",
    "for t, y in academy_titles:\n",
    "    movie_list.append(movie_dataframe(t,y))"
   ]
  },
  {
   "cell_type": "code",
   "execution_count": null,
   "metadata": {},
   "outputs": [],
   "source": [
    "#turns list into dataframe\n",
    "movie_df=pd.DataFrame(movie_list)"
   ]
  },
  {
   "cell_type": "code",
   "execution_count": null,
   "metadata": {},
   "outputs": [],
   "source": [
    "#manually change critic scores and rating for those not picked up by API\n",
    "movie_df['Critics_Average_Score'].iloc[220]=63\n",
    "movie_df['Critics_Average_Score'].iloc[229]=69\n",
    "movie_df['Critics_Average_Score'].iloc[265]=91\n",
    "movie_df['Critics_Average_Score'].iloc[290]=69\n",
    "movie_df['MPAA_Rating'].iloc[236]='PG-13'\n",
    "ratings=['R','PG','PG','R','R','PG','PG','R','R','Unrated','PG-13','R','PG','R','R','R','R','R','PG',\n",
    "'R','PG-13','R','PG-13','PG-13','PG-13','R','R','PG-13','PG-13','R','PG-13','R','R','PG-13','R',\n",
    "'PG-13','R','R','R','R','R','R','R','PG-13','PG-13','R','R','R','R']\n",
    "for i,n in enumerate(nums):\n",
    "    movie_df['MPAA_Rating'].iloc[n]=ratings[i]"
   ]
  },
  {
   "cell_type": "code",
   "execution_count": 48,
   "metadata": {},
   "outputs": [],
   "source": [
    "#join newly acquired movie info to original Oscar winner dataset.\n",
    "academy_df=academy.merge(movie_df,how='left',left_on='entity',right_on='Title')"
   ]
  },
  {
   "cell_type": "code",
   "execution_count": 51,
   "metadata": {},
   "outputs": [],
   "source": [
    "#export to csv\n",
    "academy_df.to_csv(r'C:\\Users\\Patrick\\Documents\\academy_dataset.csv')"
   ]
  },
  {
   "cell_type": "code",
   "execution_count": 211,
   "metadata": {},
   "outputs": [],
   "source": [
    "#import from csv to create final dataset\n",
    "academy_df=pd.read_csv(r'C:\\Users\\Patrick\\Documents\\academy_dataset.csv')\n",
    "academy_df.drop(columns='Unnamed: 0',inplace=True)"
   ]
  },
  {
   "cell_type": "code",
   "execution_count": 171,
   "metadata": {},
   "outputs": [],
   "source": [
    "#create dummy variables for each of the categorical fields. \n",
    "academy_df=pd.get_dummies(data=academy_df,columns=['Genre1','Genre2','Genre3'],prefix='Genre')\n",
    "academy_df=pd.get_dummies(data=academy_df,columns=['Production_Company1','Production_Company2','Production_Company3'],prefix='Production_Company')\n",
    "academy_df=pd.get_dummies(data=academy_df,columns=['Cast1','Cast2','Cast3'],prefix='Cast')\n",
    "academy_df=pd.get_dummies(data=academy_df,columns=['Director1','Director2','Director3'],prefix='Director')\n",
    "academy_df=pd.get_dummies(data=academy_df,columns=['Cinematographer1','Cinematographer2','Cinematographer3'],prefix='Cinematographer')\n",
    "academy_df=pd.get_dummies(data=academy_df,columns=['Producer1','Producer2','Producer3'],prefix='Producer')\n",
    "academy_df=pd.get_dummies(data=academy_df,columns=['Original_Language','MPAA_Rating'])\n",
    "titles=['Genre_','Production_Company_','Cast_','Director_','Cinematographer_','Producer_']\n",
    "#Following for loop ensures that there aren't duplicate categorical columns for example \"Genre1_Horror\", \"Genre2_Horror\" become just \"Genre_Horror\"\n",
    "g=list(academy_df.columns)\n",
    "for title in titles:\n",
    "    for column in g:\n",
    "        if column.startswith(title):\n",
    "            try:\n",
    "                academy_df[column+'1']=academy_df[column].max(axis=1)\n",
    "                academy_df.drop(columns=column,inplace=True)\n",
    "                academy_df.rename(columns={column+'1':column},inplace=True)\n",
    "            except:\n",
    "                pass"
   ]
  },
  {
   "cell_type": "code",
   "execution_count": 173,
   "metadata": {},
   "outputs": [],
   "source": [
    "#Turn release date into a datetime object\n",
    "#create date_rank column that ranks release dates by category and year\n",
    "academy_df['Release_date']=pd.to_datetime(academy_df['Release_date'])\n",
    "academy_df['Date_Rank']=academy_df.groupby(by=['year','category'])['Release_date'].rank(ascending=False)\n",
    "academy_df.to_csv(r'C:\\Users\\Patrick\\Documents\\academy_final_dataset.csv',index=False)"
   ]
  },
  {
   "cell_type": "code",
   "execution_count": 69,
   "metadata": {},
   "outputs": [],
   "source": [
    "#Run same process with test dataset\n",
    "academy = pd.read_csv(r'C:\\Users\\Patrick\\Documents\\oscar_winners.csv')\n",
    "academy['winner']=academy['winner'].apply(lambda x:1 if x == True else 0)\n",
    "academy_distinct_list=academy[['entity','year']].drop_duplicates()\n",
    "academy_titles=list(zip(academy_distinct_list['entity'],academy_distinct_list['year']))"
   ]
  },
  {
   "cell_type": "code",
   "execution_count": 70,
   "metadata": {},
   "outputs": [],
   "source": [
    "academy\n",
    "movie_list=[]"
   ]
  },
  {
   "cell_type": "code",
   "execution_count": 71,
   "metadata": {},
   "outputs": [
    {
     "name": "stdout",
     "output_type": "stream",
     "text": [
      "Cold War rt\n",
      "Once upon a Time… in Hollywood rt\n",
      "Parasite rt\n"
     ]
    }
   ],
   "source": [
    "for t, y in academy_titles:\n",
    "    movie_list.append(movie_dataframe(t,y))"
   ]
  },
  {
   "cell_type": "code",
   "execution_count": 100,
   "metadata": {},
   "outputs": [],
   "source": [
    "movie_df=pd.DataFrame(movie_list)"
   ]
  },
  {
   "cell_type": "code",
   "execution_count": 101,
   "metadata": {},
   "outputs": [],
   "source": [
    "movie_df['MPAA_Rating'].iloc[0]='R'\n",
    "movie_df['MPAA_Rating'].iloc[2]='R'\n",
    "movie_df['MPAA_Rating'].iloc[10]='R'\n",
    "movie_df['MPAA_Rating'].iloc[16]='PG-13'\n",
    "movie_df['MPAA_Rating'].iloc[17]='PG-13'\n",
    "movie_df['Title'].iloc[14]='Once upon a Time… in Hollywood'"
   ]
  },
  {
   "cell_type": "code",
   "execution_count": 102,
   "metadata": {},
   "outputs": [],
   "source": [
    "academy_df=academy.merge(movie_df,how='left',left_on='entity',right_on='Title')"
   ]
  },
  {
   "cell_type": "code",
   "execution_count": 104,
   "metadata": {},
   "outputs": [],
   "source": [
    "academy_df=pd.get_dummies(data=academy_df,columns=['Genre1','Genre2','Genre3'],prefix='Genre')\n",
    "academy_df=pd.get_dummies(data=academy_df,columns=['Production_Company1','Production_Company2','Production_Company3'],prefix='Production_Company')\n",
    "academy_df=pd.get_dummies(data=academy_df,columns=['Cast1','Cast2','Cast3'],prefix='Cast')\n",
    "academy_df=pd.get_dummies(data=academy_df,columns=['Director1','Director2','Director3'],prefix='Director')\n",
    "academy_df=pd.get_dummies(data=academy_df,columns=['Cinematographer1','Cinematographer2','Cinematographer3'],prefix='Cinematographer')\n",
    "academy_df=pd.get_dummies(data=academy_df,columns=['Producer1','Producer2','Producer3'],prefix='Producer')\n",
    "academy_df=pd.get_dummies(data=academy_df,columns=['Original_Language','MPAA_Rating'])\n",
    "titles=['Genre_','Production_Company_','Cast_','Director_','Cinematographer_','Producer_']\n",
    "g=list(academy_df.columns)\n",
    "for title in titles:\n",
    "    for column in g:\n",
    "        if column.startswith(title):\n",
    "            try:\n",
    "                academy_df[column+'1']=academy_df[column].max(axis=1)\n",
    "                academy_df.drop(columns=column,inplace=True)\n",
    "                academy_df.rename(columns={column+'1':column},inplace=True)\n",
    "            except:\n",
    "                pass"
   ]
  },
  {
   "cell_type": "code",
   "execution_count": 105,
   "metadata": {},
   "outputs": [],
   "source": [
    "academy_df['Release_date']=pd.to_datetime(academy_df['Release_date'])\n",
    "academy_df['Date_Rank']=academy_df.groupby(by=['year','category'])['Release_date'].rank(ascending=False)\n",
    "academy_df.to_csv(r'C:\\Users\\Patrick\\Documents\\academy_test_dataset.csv',index=False)"
   ]
  },
  {
   "cell_type": "markdown",
   "metadata": {},
   "source": [
    "At the end of the data cleaning process I had ended up with the following variables for each movie: Top 3 Genres,  Top 3 Actors/Actresses, Top 3 Production Companies, Top 3 Cinematographers, Top 3 Directors, Top 3 Producers, MPAA Rating, Original Language, Movie Runtime, Budget, Revenue,  and Release Date. Top 3 of any category means that potentially a movie could have more than one in each of those categories, so for simplicity sake I took the top 3 listed for those specific categories. "
   ]
  }
 ],
 "metadata": {
  "kernelspec": {
   "display_name": "Python 3",
   "language": "python",
   "name": "python3"
  },
  "language_info": {
   "codemirror_mode": {
    "name": "ipython",
    "version": 3
   },
   "file_extension": ".py",
   "mimetype": "text/x-python",
   "name": "python",
   "nbconvert_exporter": "python",
   "pygments_lexer": "ipython3",
   "version": "3.7.4"
  }
 },
 "nbformat": 4,
 "nbformat_minor": 4
}
